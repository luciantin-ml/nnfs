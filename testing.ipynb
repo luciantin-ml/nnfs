{
 "cells": [
  {
   "cell_type": "code",
   "execution_count": 4,
   "metadata": {
    "collapsed": true
   },
   "outputs": [
    {
     "name": "stdout",
     "output_type": "stream",
     "text": [
      "-2\n",
      "0\n"
     ]
    }
   ],
   "source": [
    "import numpy as np\n",
    "\n",
    "x = [1, 2, 3]\n",
    "w = [1, 2, 3]\n",
    "b = -16\n",
    "\n",
    "xw0 = x[0] * w[0]\n",
    "xw1 = x[1] * w[1]\n",
    "xw2 = x[2] * w[2]\n",
    "\n",
    "z = xw0 + xw1 + xw2 + b\n",
    "\n",
    "print(z)\n",
    "\n",
    "y = max(z, 0)\n",
    "\n",
    "print(y)"
   ]
  },
  {
   "cell_type": "code",
   "execution_count": 7,
   "outputs": [
    {
     "name": "stdout",
     "output_type": "stream",
     "text": [
      "14\n",
      "14\n"
     ]
    }
   ],
   "source": [
    "a = np.array([1,2,3])\n",
    "b = np.array([1,2,3])\n",
    "\n",
    "# we multiply elements at the same position and sum them all to get a scalar\n",
    "print(np.dot(a,b))\n",
    "\n",
    "c = a[0] * b[0] + a[1] * b[1] + a[2] * b[2]\n",
    "print(c)"
   ],
   "metadata": {
    "collapsed": false,
    "pycharm": {
     "name": "#%%\n"
    }
   }
  },
  {
   "cell_type": "code",
   "execution_count": 24,
   "outputs": [
    {
     "name": "stdout",
     "output_type": "stream",
     "text": [
      "[[1 1 1]\n",
      " [1 1 1]]\n"
     ]
    }
   ],
   "source": [
    "# a matrix can be thought of as a list of vectors\n",
    "# if we have a batch of data and multiple layers of neurons\n",
    "# then we have to perform a dot product for each input\n",
    "\n",
    "A = np.array([[1,1],\n",
    "              [1,1]])\n",
    "\n",
    "B = np.array([[1,1],\n",
    "              [1,1],\n",
    "              [1,1]])\n",
    "\n",
    "y = np.dot(A,B.T)\n",
    "print(y)"
   ],
   "metadata": {
    "collapsed": false,
    "pycharm": {
     "name": "#%%\n"
    }
   }
  },
  {
   "cell_type": "code",
   "execution_count": 55,
   "outputs": [
    {
     "name": "stdout",
     "output_type": "stream",
     "text": [
      "[[1 1]\n",
      " [1 1]] \n",
      "\n",
      "[[0. 0.]] \n",
      "\n",
      "[[3. 3.]\n",
      " [2. 2.]]\n",
      "[[3 3]\n",
      " [2 2]]\n",
      "[1 0]\n"
     ]
    }
   ],
   "source": [
    "from NetworkClasses.Layers import *\n",
    "\n",
    "\n",
    "A = np.array([[2,1],\n",
    "              [1,1]])\n",
    "\n",
    "# A = np.array([2,1])\n",
    "\n",
    "\n",
    "weights = np.array([[1,1],\n",
    "                    [1,1]])\n",
    "\n",
    "dense1 = Layer_Dense(2,2)\n",
    "dense1.weights = weights\n",
    "print(dense1.weights, '\\n')\n",
    "\n",
    "print(dense1.biases, '\\n')\n",
    "\n",
    "dense1.forward(A)\n",
    "print(dense1.output)\n",
    "\n",
    "print(np.dot(A, weights))\n",
    "print(np.cross(A, weights))"
   ],
   "metadata": {
    "collapsed": false,
    "pycharm": {
     "name": "#%%\n"
    }
   }
  }
 ],
 "metadata": {
  "kernelspec": {
   "display_name": "Python 3",
   "language": "python",
   "name": "python3"
  },
  "language_info": {
   "codemirror_mode": {
    "name": "ipython",
    "version": 2
   },
   "file_extension": ".py",
   "mimetype": "text/x-python",
   "name": "python",
   "nbconvert_exporter": "python",
   "pygments_lexer": "ipython2",
   "version": "2.7.6"
  }
 },
 "nbformat": 4,
 "nbformat_minor": 0
}