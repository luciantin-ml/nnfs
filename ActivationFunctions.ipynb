{
 "cells": [
  {
   "cell_type": "code",
   "execution_count": 32,
   "metadata": {
    "collapsed": true
   },
   "outputs": [],
   "source": [
    "import matplotlib.pyplot as plt\n",
    "import numpy as np\n",
    "from IPython.display import Latex"
   ]
  },
  {
   "cell_type": "code",
   "execution_count": 33,
   "outputs": [],
   "source": [
    "def create_graph(start, end):\n",
    "    if end < 0:\n",
    "        end -= 1\n",
    "    else:\n",
    "        end += 1\n",
    "    START = start\n",
    "    END = end\n",
    "    TOTAL = np.abs(start) + np.abs(end)\n",
    "    y_axis = np.zeros(TOTAL)\n",
    "    x_axis = np.arange(START,END)\n",
    "    plt.plot(y_axis,x_axis, color=\"black\")\n",
    "    plt.plot(x_axis,y_axis, color=\"black\")\n",
    "    plt.legend()\n",
    "    plt.show()"
   ],
   "metadata": {
    "collapsed": false,
    "pycharm": {
     "name": "#%%\n"
    }
   }
  },
  {
   "cell_type": "markdown",
   "source": [
    "# Expl.\n",
    "-\n",
    "- A nonlinear activation function allows nn's to map nonlinear funcions"
   ],
   "metadata": {
    "collapsed": false,
    "pycharm": {
     "name": "#%% md\n"
    }
   }
  },
  {
   "cell_type": "markdown",
   "source": [
    "# Step Function\n",
    "\n",
    "$$y = f(x) =  \\left\\{\\begin{array}{ll} 1   \\quad x > 0 \\\\ 0  \\quad x \\leq 0 \\end{array} \\right. $$"
   ],
   "metadata": {
    "collapsed": false
   }
  },
  {
   "cell_type": "code",
   "execution_count": 34,
   "outputs": [
    {
     "data": {
      "text/plain": "<Figure size 432x288 with 1 Axes>",
      "image/png": "[encoded data removed]"
     },
     "metadata": {},
     "output_type": "display_data"
    }
   ],
   "source": [
    "x = np.arange(-1,1, 0.01)\n",
    "# y = np.zeros(len(x))\n",
    "y = np.piecewise(x, [x <= 0, x > 0], [lambda x_a: 0, lambda x_a: 1])\n",
    "plt.figure(facecolor='white')\n",
    "plt.scatter(x,y,s=5, label=\"X\", color=\"red\")\n",
    "create_graph(-1,1)"
   ],
   "metadata": {
    "collapsed": false,
    "pycharm": {
     "name": "#%%\n"
    }
   }
  },
  {
   "cell_type": "markdown",
   "source": [
    "# Sigmoid Activation Function\n",
    "\n",
    "\\begin{equation}\n",
    "y = f(x) = \\frac{1}{1 + e^-x}\n",
    "\\end{equation}"
   ],
   "metadata": {
    "collapsed": false,
    "pycharm": {
     "name": "#%% md\n"
    }
   }
  },
  {
   "cell_type": "code",
   "execution_count": 35,
   "outputs": [
    {
     "data": {
      "text/plain": "<Figure size 432x288 with 1 Axes>",
      "image/png": "[encoded data removed]"
     },
     "metadata": {},
     "output_type": "display_data"
    }
   ],
   "source": [
    "x = np.arange(-5,5, 0.01)\n",
    "sig_act = lambda x_: 1 / (1 + np.exp(-x_))\n",
    "y = sig_act(x)\n",
    "plt.figure(facecolor='white')\n",
    "plt.scatter(x,y,s=5, label=\"X\", color=\"red\")\n",
    "create_graph(-5,5)"
   ],
   "metadata": {
    "collapsed": false,
    "pycharm": {
     "name": "#%%\n"
    }
   }
  },
  {
   "cell_type": "markdown",
   "source": [
    "# Linear Activation Function\n",
    "\n",
    "\\begin{equation}\n",
    "y = f(x) = x\n",
    "\\end{equation}"
   ],
   "metadata": {
    "collapsed": false,
    "pycharm": {
     "name": "#%% md\n"
    }
   }
  },
  {
   "cell_type": "code",
   "execution_count": 36,
   "outputs": [
    {
     "data": {
      "text/plain": "<Figure size 432x288 with 1 Axes>",
      "image/png": "[encoded data removed]"
     },
     "metadata": {},
     "output_type": "display_data"
    }
   ],
   "source": [
    "x = np.arange(-5,5, 0.01)\n",
    "y = x\n",
    "plt.figure(facecolor='white')\n",
    "plt.scatter(x,y,s=5, label=\"X\", color=\"red\")\n",
    "create_graph(-5,5)"
   ],
   "metadata": {
    "collapsed": false,
    "pycharm": {
     "name": "#%%\n"
    }
   }
  },
  {
   "cell_type": "markdown",
   "source": [
    "# Rectified Linear Activation Function\n",
    "\n",
    "$$y = f(x) =  \\left\\{\\begin{array}{ll} x   \\quad x > 0 \\\\ 0  \\quad x \\leq 0 \\end{array} \\right. $$"
   ],
   "metadata": {
    "collapsed": false
   }
  },
  {
   "cell_type": "code",
   "execution_count": null,
   "outputs": [],
   "source": [
    "x = np.arange(-1,1, 0.01)\n",
    "# y = np.zeros(len(x))\n",
    "y = np.piecewise(x, [x <= 0, x > 0], [lambda x_a: 0, lambda x_a: x_a])\n",
    "plt.figure(facecolor='white')\n",
    "plt.scatter(x,y,s=5, label=\"X\", color=\"red\")\n",
    "create_graph(-1,1)"
   ],
   "metadata": {
    "collapsed": false,
    "pycharm": {
     "name": "#%%\n"
    }
   }
  },
  {
   "cell_type": "markdown",
   "source": [
    "# Softmax Activation Function\n",
    "## for classification"
   ],
   "metadata": {
    "collapsed": false,
    "pycharm": {
     "name": "#%% md\n"
    }
   }
  }
 ],
 "metadata": {
  "kernelspec": {
   "name": "pycharm-da8c044b",
   "language": "python",
   "display_name": "PyCharm (nnfs)"
  },
  "language_info": {
   "codemirror_mode": {
    "name": "ipython",
    "version": 2
   },
   "file_extension": ".py",
   "mimetype": "text/x-python",
   "name": "python",
   "nbconvert_exporter": "python",
   "pygments_lexer": "ipython2",
   "version": "2.7.6"
  }
 },
 "nbformat": 4,
 "nbformat_minor": 0
}