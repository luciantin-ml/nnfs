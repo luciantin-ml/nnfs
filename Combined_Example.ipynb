{
 "cells": [
  {
   "cell_type": "code",
   "execution_count": 1,
   "metadata": {
    "collapsed": true
   },
   "outputs": [],
   "source": [
    "from NetworkClasses.Layers import *\n",
    "from NetworkClasses.ActivationFunctions import *\n",
    "from NetworkClasses.Loss import *\n",
    "import matplotlib.pyplot as plt\n",
    "import nnfs\n",
    "from nnfs.datasets import spiral_data\n",
    "\n",
    "nnfs.init()\n",
    "\n"
   ]
  },
  {
   "cell_type": "code",
   "execution_count": 124,
   "outputs": [
    {
     "name": "stdout",
     "output_type": "stream",
     "text": [
      "Each of the samples has ~33%, this results from the random init of weights (a draw from the normal distribution)\n",
      "[[0.33333334 0.33333334 0.33333334]\n",
      " [0.33333337 0.3333344  0.33333224]\n",
      " [0.33333334 0.33333546 0.33333117]\n",
      " [0.33333424 0.33333397 0.33333182]\n",
      " [0.3333364  0.33332857 0.33333504]]\n",
      "Sum of confidence scores : \n",
      "[[1.        ]\n",
      " [1.        ]\n",
      " [0.99999994]\n",
      " [1.        ]\n",
      " [1.        ]]\n",
      "Argmax confidence score (returns index) : \n",
      "[0 1 1 0 0]\n",
      "1.0986035\n",
      " acc:  0.4\n"
     ]
    }
   ],
   "source": [
    "X, y = spiral_data(samples=100, classes=3)\n",
    "\n",
    "# dense layer with 2 input features and 3 output features\n",
    "dense1 = Layer_Dense(2, 3)\n",
    "# dense layer with 3 input features and 3 output features\n",
    "dense2 = Layer_Dense(3, 3)\n",
    "\n",
    "activation1 = Activation_ReLU()\n",
    "activation2 = Activation_Softmax()\n",
    "\n",
    "loss_function = Loss_CategoricalCrossentropy()\n",
    "#####################\n",
    "\n",
    "dense1.forward(X)\n",
    "activation1.forward(dense1.output)\n",
    "dense2.forward(activation1.output)\n",
    "activation2.forward(dense2.output)\n",
    "\n",
    "######################################\n",
    "\n",
    "print(\"Each of the samples has ~33%, this results from the random init of weights (a draw from the normal distribution)\")\n",
    "print(activation2.output[:5])\n",
    "print(\"Sum of confidence scores : \")\n",
    "print(np.sum(activation2.output[:5], axis=1, keepdims=True))\n",
    "print(\"Argmax confidence score (returns index) : \")\n",
    "print(np.argmax(activation2.output[:5], axis=1))\n",
    "\n",
    "######################################\n",
    "\n",
    "loss = loss_function.calculate(activation2.output, y)\n",
    "print(loss)\n",
    "\n",
    "######################################\n",
    "\n",
    "predictions = np.argmax(activation2.output, axis=1)\n",
    "if len(y.shape) == 2:\n",
    "    class_targets = np.argmax(y, axis=1)\n",
    "accuracy = np.mean(predictions == y)\n",
    "print(' acc: ', accuracy )"
   ],
   "metadata": {
    "collapsed": false,
    "pycharm": {
     "name": "#%%\n"
    }
   }
  }
 ],
 "metadata": {
  "kernelspec": {
   "display_name": "Python 3",
   "language": "python",
   "name": "python3"
  },
  "language_info": {
   "codemirror_mode": {
    "name": "ipython",
    "version": 2
   },
   "file_extension": ".py",
   "mimetype": "text/x-python",
   "name": "python",
   "nbconvert_exporter": "python",
   "pygments_lexer": "ipython2",
   "version": "2.7.6"
  }
 },
 "nbformat": 4,
 "nbformat_minor": 0
}