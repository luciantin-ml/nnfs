{
 "cells": [
  {
   "cell_type": "code",
   "execution_count": 6,
   "outputs": [],
   "source": [
    "import numpy as np\n",
    "from NetworkClasses.Loss import *"
   ],
   "metadata": {
    "collapsed": false,
    "pycharm": {
     "name": "#%%\n"
    }
   }
  },
  {
   "cell_type": "markdown",
   "metadata": {
    "collapsed": true,
    "pycharm": {
     "name": "#%% md\n"
    }
   },
   "source": [
    "# Quantify how wrong a model is"
   ]
  },
  {
   "cell_type": "markdown",
   "source": [
    "# Categorical Cross-Entropy Loss\n",
    "\n",
    "\\begin{equation}\n",
    "L_i = - \\sum_j{y_{i,j} \\log{\\hat{y}_{i,j}}}\n",
    "\\end{equation}\n",
    "\n",
    "- $$L_i$$ - sample loss value\n",
    "- $$i$$ - is the i-th sample in the set\n",
    "- $$j$$ - is the label/output index\n",
    "- $$y$$ - denotes the target values\n",
    "- $$\\hat{y}$$ - denotes the predicted values\n",
    "\n",
    "\n",
    "\n",
    "- for every sample ($$i$$) Calculate CCE loss\n",
    "\n",
    "- used to compare a \"ground-truth\" probability (y) and some predicted distribution ($$\\hat{y}$$)"
   ],
   "metadata": {
    "collapsed": false,
    "pycharm": {
     "name": "#%% md\n"
    }
   }
  },
  {
   "cell_type": "code",
   "execution_count": 7,
   "outputs": [
    {
     "name": "stdout",
     "output_type": "stream",
     "text": [
      "0.35667494393873245\n"
     ]
    }
   ],
   "source": [
    "softmax_output = [.7, .1, .2]  # probability distribution\n",
    "targets = [1, 0 ,0]  # ground-truth , a one-hot vector\n",
    "\n",
    "CCE_sum = 0\n",
    "for (idx, x) in enumerate(softmax_output):\n",
    "    CCE_sum += targets[idx] * np.log(x)\n",
    "\n",
    "CCE_loss = - CCE_sum\n",
    "\n",
    "print(CCE_loss)"
   ],
   "metadata": {
    "collapsed": false,
    "pycharm": {
     "name": "#%%\n"
    }
   }
  },
  {
   "cell_type": "markdown",
   "source": [
    "# -log(correct_class_confidence)\n",
    "- if its a one-hot vector we can ignore all the 0's\n",
    "\n",
    "$$L_i = - \\log{\\hat{y_{i,k}}}$$"
   ],
   "metadata": {
    "collapsed": false,
    "pycharm": {
     "name": "#%% md\n"
    }
   },
   "outputs": [
    {
     "ename": "SyntaxError",
     "evalue": "invalid syntax (<ipython-input-4-2e13e80bd85a>, line 1)",
     "output_type": "error",
     "traceback": [
      "\u001B[1;36m  File \u001B[1;32m\"<ipython-input-4-2e13e80bd85a>\"\u001B[1;36m, line \u001B[1;32m1\u001B[0m\n\u001B[1;33m    $$L_i = - \\log{}$$\u001B[0m\n\u001B[1;37m    ^\u001B[0m\n\u001B[1;31mSyntaxError\u001B[0m\u001B[1;31m:\u001B[0m invalid syntax\n"
     ]
    }
   ]
  },
  {
   "cell_type": "code",
   "execution_count": 8,
   "outputs": [
    {
     "name": "stdout",
     "output_type": "stream",
     "text": [
      "0.35667494393873245\n"
     ]
    }
   ],
   "source": [
    "softmax_output = [.7, .1, .2]  # probability distribution\n",
    "targets = [1, 0 ,0]  # ground-truth , a one-hot vector\n",
    "\n",
    "loss = -np.log(softmax_output[targets.index(1)])\n",
    "\n",
    "print(loss)"
   ],
   "metadata": {
    "collapsed": false,
    "pycharm": {
     "name": "#%%\n"
    }
   }
  },
  {
   "cell_type": "code",
   "execution_count": 9,
   "outputs": [
    {
     "name": "stdout",
     "output_type": "stream",
     "text": [
      "0.38506088005216804\n"
     ]
    }
   ],
   "source": [
    "softmax_outputs = np.array([[.7, .1, .2],\n",
    "                            [.1, .5, .4],\n",
    "                            [.02, .9, .08]])\n",
    "\n",
    "class_targets = np.array([[1, 0, 0],\n",
    "                          [0, 1, 0],\n",
    "                          [0, 1, 0]])\n",
    "\n",
    "\n",
    "if len(class_targets.shape) == 1:\n",
    "    correct_confidences = softmax_outputs[\n",
    "        range(len(softmax_outputs)),\n",
    "        class_targets\n",
    "    ]\n",
    "\n",
    "# Mask values\n",
    "# only for one-hot encoded labels\n",
    "elif len(class_targets.shape) == 2:\n",
    "    correct_confidences = np.sum(\n",
    "        softmax_outputs * class_targets,\n",
    "        axis=1\n",
    "    )\n",
    "\n",
    "neg_loss = - np.log(correct_confidences)\n",
    "average_loss = np.mean(neg_loss)\n",
    "print(average_loss)"
   ],
   "metadata": {
    "collapsed": false,
    "pycharm": {
     "name": "#%%\n"
    }
   }
  },
  {
   "cell_type": "code",
   "execution_count": 10,
   "outputs": [
    {
     "name": "stdout",
     "output_type": "stream",
     "text": [
      "[1.000000e-07 9.999999e-01 1.000000e-07]\n"
     ]
    }
   ],
   "source": [
    "# nesmije ici 0 u CCE loss\n",
    "y_pred = [0, 1, 0]\n",
    "y_pred_clipped = np.clip(y_pred, 1e-7, 1 - 1e-7)\n",
    "\n",
    "print(y_pred_clipped)"
   ],
   "metadata": {
    "collapsed": false,
    "pycharm": {
     "name": "#%%\n"
    }
   }
  },
  {
   "cell_type": "markdown",
   "source": [
    "# Accuracy Calculation"
   ],
   "metadata": {
    "collapsed": false,
    "pycharm": {
     "name": "#%% md\n"
    }
   }
  },
  {
   "cell_type": "code",
   "execution_count": 14,
   "outputs": [
    {
     "name": "stdout",
     "output_type": "stream",
     "text": [
      "[0 0 1]\n",
      "[0 1 1]\n",
      "[ True False  True]\n",
      " acc:  0.6666666666666666\n"
     ]
    }
   ],
   "source": [
    "softmax_outputs = np.array([[.7, .2, .1],\n",
    "                            [.5, .1, .4],\n",
    "                            [.02, .9, .08]])\n",
    "\n",
    "class_targets = np.array([0, 1, 1])  # labels for 3 samples\n",
    "predictions = np.argmax(softmax_outputs, axis=1)\n",
    "\n",
    "if len(class_targets.shape) == 2:\n",
    "    class_targets = np.argmax(class_targets, axis=1)\n",
    "\n",
    "accuracy = np.mean(predictions == class_targets)\n",
    "print(predictions)\n",
    "print(class_targets)\n",
    "print(predictions == class_targets)\n",
    "print(' acc: ', accuracy )"
   ],
   "metadata": {
    "collapsed": false,
    "pycharm": {
     "name": "#%%\n"
    }
   }
  }
 ],
 "metadata": {
  "kernelspec": {
   "display_name": "Python 3",
   "language": "python",
   "name": "python3"
  },
  "language_info": {
   "codemirror_mode": {
    "name": "ipython",
    "version": 2
   },
   "file_extension": ".py",
   "mimetype": "text/x-python",
   "name": "python",
   "nbconvert_exporter": "python",
   "pygments_lexer": "ipython2",
   "version": "2.7.6"
  }
 },
 "nbformat": 4,
 "nbformat_minor": 0
}