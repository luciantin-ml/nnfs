{
 "cells": [
  {
   "cell_type": "markdown",
   "metadata": {
    "collapsed": true,
    "pycharm": {
     "name": "#%% md\n"
    }
   },
   "source": [
    "# Linear Activation In Hidden Layers"
   ]
  },
  {
   "cell_type": "code",
   "execution_count": 2,
   "outputs": [],
   "source": [
    "import numpy as np\n",
    "import matplotlib.pyplot as plt\n",
    "from IPython.display import Latex"
   ],
   "metadata": {
    "collapsed": false,
    "pycharm": {
     "name": "#%%\n"
    }
   }
  },
  {
   "cell_type": "code",
   "execution_count": 3,
   "outputs": [],
   "source": [
    "def create_graph(start, end):\n",
    "    if end < 0:\n",
    "        end -= 1\n",
    "    else:\n",
    "        end += 1\n",
    "    START = start\n",
    "    END = end\n",
    "    TOTAL = np.abs(start) + np.abs(end)\n",
    "    y_axis = np.zeros(TOTAL)\n",
    "    x_axis = np.arange(START,END)\n",
    "    plt.plot(y_axis,x_axis, color=\"black\")\n",
    "    plt.plot(x_axis,y_axis, color=\"black\")\n",
    "    plt.legend()\n",
    "    plt.show()"
   ],
   "metadata": {
    "collapsed": false,
    "pycharm": {
     "name": "#%%\n"
    }
   }
  },
  {
   "cell_type": "markdown",
   "source": [
    "# Single Neuron With Lin. Act. f. On Output\n",
    "no matter what we do to the weights and biases the output of the neuron will always be linear (y=x)"
   ],
   "metadata": {
    "collapsed": false,
    "pycharm": {
     "name": "#%% md\n"
    }
   }
  },
  {
   "cell_type": "code",
   "execution_count": 4,
   "outputs": [
    {
     "name": "stdout",
     "output_type": "stream",
     "text": [
      "1 -1\n"
     ]
    },
    {
     "data": {
      "text/plain": "<Figure size 432x288 with 1 Axes>",
      "image/png": "[encoded data removed]"
     },
     "metadata": {},
     "output_type": "display_data"
    }
   ],
   "source": [
    "inputs = [[1, 2 ,-3],\n",
    "          [1, 2, -3]]\n",
    "weights = [[1, 0 ,0],\n",
    "           [-1, 0, 0]]\n",
    "bias = [0, 0]\n",
    "\n",
    "output1 = np.dot(inputs[0], np.array(weights[0]).T) + bias[0]\n",
    "output2 = np.dot(inputs[1], np.array(weights[1]).T) + bias[1]\n",
    "\n",
    "print(output1, output2)\n",
    "lin_act_out1 = output1\n",
    "lin_act_out2 = output2\n",
    "\n",
    "x_lin = np.arange(-5,5, 0.01)\n",
    "y_lin = x_lin\n",
    "plt.figure(facecolor='white')\n",
    "plt.scatter(x_lin,y_lin,s=5, label=\"Lin. Act. f.\", color=\"red\")\n",
    "plt.scatter(output1, lin_act_out1, label=\"output 1\", color=\"blue\")\n",
    "plt.scatter(output2, lin_act_out2, label=\"output 2\", color=\"green\")\n",
    "create_graph(-5,5)"
   ],
   "metadata": {
    "collapsed": false,
    "pycharm": {
     "name": "#%%\n"
    }
   }
  },
  {
   "cell_type": "markdown",
   "source": [
    "# ReLU Activation for neuron output"
   ],
   "metadata": {
    "collapsed": false,
    "pycharm": {
     "name": "#%% md\n"
    }
   }
  },
  {
   "cell_type": "code",
   "execution_count": 5,
   "outputs": [
    {
     "name": "stdout",
     "output_type": "stream",
     "text": [
      "[1, -1, 0]\n"
     ]
    },
    {
     "data": {
      "text/plain": "<Figure size 432x288 with 1 Axes>",
      "image/png": "[encoded data removed]"
     },
     "metadata": {},
     "output_type": "display_data"
    }
   ],
   "source": [
    "inputs = [[1, 2 ,-3],\n",
    "          [1, 2, -3],\n",
    "          [0]]\n",
    "weights = [[1, 0 ,0],\n",
    "           [-1, 0, 0],\n",
    "           [0]]\n",
    "bias = [0, 0, 0]\n",
    "\n",
    "outputs = []\n",
    "\n",
    "for (idx, input_x) in enumerate(inputs):\n",
    "    outputs.append(np.dot(inputs[idx], np.array(weights[idx]).T) + bias[idx])\n",
    "\n",
    "print(outputs)\n",
    "outputs = np.array(outputs)\n",
    "relu_act_out = (np.piecewise(outputs, [outputs <= 0, outputs > 0], [lambda x_a: 0, lambda x_a: x_a]))\n",
    "\n",
    "x_ReLU = np.arange(-5,5, 0.01)\n",
    "y_ReLU = np.piecewise(x_ReLU, [x_ReLU <= 0, x_ReLU > 0], [lambda x_a: 0, lambda x_a: x_a])\n",
    "plt.figure(facecolor='white')\n",
    "plt.scatter(x_ReLU,y_ReLU,s=5, label=\"ReLU Act. f.\", color=\"red\")\n",
    "for (idy, output_y) in enumerate(outputs):\n",
    "    plt.scatter(outputs[idy], relu_act_out[idy], label=f\"output {idy}\", color=\"green\")\n",
    "create_graph(-5,5)"
   ],
   "metadata": {
    "collapsed": false,
    "pycharm": {
     "name": "#%%\n"
    }
   }
  },
  {
   "cell_type": "markdown",
   "source": [
    "# ReLU on Single Neuron Output for range"
   ],
   "metadata": {
    "collapsed": false,
    "pycharm": {
     "name": "#%% md\n"
    }
   }
  },
  {
   "cell_type": "markdown",
   "source": [
    "## weight 0, bias 0"
   ],
   "metadata": {
    "collapsed": false,
    "pycharm": {
     "name": "#%% md\n"
    }
   }
  },
  {
   "cell_type": "code",
   "execution_count": 6,
   "outputs": [
    {
     "data": {
      "text/plain": "<Figure size 432x288 with 1 Axes>",
      "image/png": "[encoded data removed]"
     },
     "metadata": {},
     "output_type": "display_data"
    }
   ],
   "source": [
    "x_in = np.arange(-5,5, 0.01)\n",
    "y_out = []\n",
    "weight = 0\n",
    "bias = 0\n",
    "\n",
    "for (idx, x) in enumerate(x_in):\n",
    "    y_out.append(weight * x + bias)\n",
    "y_out = np.array(y_out)\n",
    "relu_out = (np.piecewise(y_out, [y_out <= 0, y_out > 0], [lambda x_a: 0, lambda x_a: x_a]))\n",
    "\n",
    "plt.figure(facecolor='white')\n",
    "plt.scatter(x_in,relu_out,s=5, label=\"ReLU Act. f. Out\", color=\"red\")\n",
    "create_graph(-5,5)\n"
   ],
   "metadata": {
    "collapsed": false,
    "pycharm": {
     "name": "#%%\n"
    }
   }
  },
  {
   "cell_type": "markdown",
   "source": [
    "## weight 1, bias 0"
   ],
   "metadata": {
    "collapsed": false
   }
  },
  {
   "cell_type": "code",
   "execution_count": 7,
   "outputs": [
    {
     "data": {
      "text/plain": "<Figure size 432x288 with 1 Axes>",
      "image/png": "[encoded data removed]"
     },
     "metadata": {},
     "output_type": "display_data"
    }
   ],
   "source": [
    "x_in = np.arange(-5,5, 0.01)\n",
    "y_out = []\n",
    "weight = 1\n",
    "bias = 0\n",
    "\n",
    "for (idx, x) in enumerate(x_in):\n",
    "    y_out.append(weight * x + bias)\n",
    "y_out = np.array(y_out)\n",
    "relu_out = (np.piecewise(y_out, [y_out <= 0, y_out > 0], [lambda x_a: 0, lambda x_a: x_a]))\n",
    "\n",
    "plt.figure(facecolor='white')\n",
    "plt.scatter(x_in,relu_out,s=5, label=\"ReLU Act. f. Out\", color=\"red\")\n",
    "create_graph(-5,5)"
   ],
   "metadata": {
    "collapsed": false,
    "pycharm": {
     "name": "#%%\n"
    }
   }
  },
  {
   "cell_type": "markdown",
   "source": [
    "## weight -1, bias 0.5"
   ],
   "metadata": {
    "collapsed": false,
    "pycharm": {
     "name": "#%% md\n"
    }
   }
  },
  {
   "cell_type": "code",
   "execution_count": 8,
   "outputs": [
    {
     "data": {
      "text/plain": "<Figure size 432x288 with 1 Axes>",
      "image/png": "[encoded data removed]"
     },
     "metadata": {},
     "output_type": "display_data"
    }
   ],
   "source": [
    "x_in = np.arange(-1,1, 0.01)\n",
    "y_out = []\n",
    "weight = -1\n",
    "bias = 0.5\n",
    "\n",
    "for (idx, x) in enumerate(x_in):\n",
    "    y_out.append(weight * x + bias)\n",
    "y_out = np.array(y_out)\n",
    "relu_out = (np.piecewise(y_out, [y_out <= 0, y_out > 0], [lambda x_a: 0, lambda x_a: x_a]))\n",
    "\n",
    "plt.figure(facecolor='white')\n",
    "plt.scatter(x_in,relu_out,s=5, label=\"ReLU Act. f. Out\", color=\"red\")\n",
    "create_graph(-1,1)"
   ],
   "metadata": {
    "collapsed": false,
    "pycharm": {
     "name": "#%%\n"
    }
   }
  },
  {
   "cell_type": "markdown",
   "source": [
    "# ReLU Activation in a Pair of Neurons\n",
    "## range() -> n_1 -> n_2 -> out"
   ],
   "metadata": {
    "collapsed": false,
    "pycharm": {
     "name": "#%% md\n"
    }
   }
  },
  {
   "cell_type": "code",
   "execution_count": 9,
   "outputs": [
    {
     "data": {
      "text/plain": "<Figure size 432x288 with 1 Axes>",
      "image/png": "[encoded data removed]"
     },
     "metadata": {},
     "output_type": "display_data"
    }
   ],
   "source": [
    "x_in_base = np.arange(-1,1, 0.01)\n",
    "\n",
    "# first neuron\n",
    "x_in = np.arange(-1,1, 0.01)\n",
    "y_out = []\n",
    "weight = -1\n",
    "bias = 0.5\n",
    "for (idx, x) in enumerate(x_in):\n",
    "    y_out.append(weight * x + bias)\n",
    "y_out = np.array(y_out)\n",
    "relu_out = (np.piecewise(y_out, [y_out <= 0, y_out > 0], [lambda x_a: 0, lambda x_a: x_a]))\n",
    "\n",
    "# second neuron\n",
    "x_in = relu_out\n",
    "weight = 1\n",
    "bias = 0.2\n",
    "y_out = []\n",
    "for (idx, x) in enumerate(relu_out):\n",
    "    y_out.append(weight * x + bias)\n",
    "y_out = np.array(y_out)\n",
    "relu_out = (np.piecewise(y_out, [y_out <= 0, y_out > 0], [lambda x_a: 0, lambda x_a: x_a]))\n",
    "\n",
    "\n",
    "plt.figure(facecolor='white')\n",
    "plt.scatter(x_in_base,relu_out,s=5, label=\"ReLU Act. f. Out\", color=\"red\")\n",
    "create_graph(-1,1)"
   ],
   "metadata": {
    "collapsed": false,
    "pycharm": {
     "name": "#%%\n"
    }
   }
  },
  {
   "cell_type": "markdown",
   "source": [
    "# ReLU Activation in a Pair of Neurons with an activation and deactivation point"
   ],
   "metadata": {
    "collapsed": false,
    "pycharm": {
     "name": "#%% md\n"
    }
   }
  },
  {
   "cell_type": "code",
   "execution_count": 39,
   "outputs": [
    {
     "data": {
      "text/plain": "<Figure size 432x288 with 1 Axes>",
      "image/png": "[encoded data removed]"
     },
     "metadata": {},
     "output_type": "display_data"
    },
    {
     "data": {
      "text/plain": "<Figure size 432x288 with 1 Axes>",
      "image/png": "[encoded data removed]"
     },
     "metadata": {},
     "output_type": "display_data"
    }
   ],
   "source": [
    "x_in_base = np.arange(-1,1, 0.01)\n",
    "\n",
    "# first neuron\n",
    "x_in = np.arange(-1,1, 0.01)\n",
    "y_out = []\n",
    "weight = -1\n",
    "bias = 0.5\n",
    "for (idx, x) in enumerate(x_in):\n",
    "    y_out.append(weight * x + bias)\n",
    "y_out = np.array(y_out)\n",
    "relu_out = (np.piecewise(y_out, [y_out <= 0, y_out > 0], [lambda x_a: 0, lambda x_a: x_a]))\n",
    "\n",
    "plt.figure(facecolor='white')\n",
    "plt.scatter(x_in_base,relu_out,s=5, label=\"ReLU Act. f. Out\", color=\"red\")\n",
    "create_graph(-1,1)\n",
    "\n",
    "# second neuron\n",
    "x_in = relu_out\n",
    "weight = -2\n",
    "bias = 1\n",
    "y_out = []\n",
    "for (idx, x) in enumerate(relu_out):\n",
    "    y_out.append(weight * x + bias)\n",
    "y_out = np.array(y_out)\n",
    "relu_out = (np.piecewise(y_out, [y_out <= 0, y_out > 0], [lambda x_a: 0, lambda x_a: x_a]))\n",
    "\n",
    "plt.figure(facecolor='white')\n",
    "plt.scatter(x_in_base,relu_out,s=5, label=\"ReLU Act. f. Out\", color=\"red\")\n",
    "create_graph(-1,1)\n"
   ],
   "metadata": {
    "collapsed": false,
    "pycharm": {
     "name": "#%%\n"
    }
   }
  },
  {
   "cell_type": "markdown",
   "source": [
    "# ReLU Activation in Hidden Layers\n",
    "## fit a sin wave"
   ],
   "metadata": {
    "collapsed": false
   }
  },
  {
   "cell_type": "code",
   "execution_count": 11,
   "outputs": [],
   "source": [
    "# TODO"
   ],
   "metadata": {
    "collapsed": false,
    "pycharm": {
     "name": "#%%\n"
    }
   }
  },
  {
   "cell_type": "markdown",
   "source": [
    "# Applied on the output of a Dense Layer"
   ],
   "metadata": {
    "collapsed": false,
    "pycharm": {
     "name": "#%% md\n"
    }
   }
  },
  {
   "cell_type": "code",
   "execution_count": 12,
   "outputs": [
    {
     "name": "stdout",
     "output_type": "stream",
     "text": [
      "[[0.         0.         0.        ]\n",
      " [0.         0.00011395 0.        ]\n",
      " [0.         0.00031729 0.        ]\n",
      " [0.         0.00052666 0.        ]\n",
      " [0.         0.00071401 0.        ]]\n"
     ]
    }
   ],
   "source": [
    "from NetworkClasses.Layers import *\n",
    "from NetworkClasses.ActivationFunctions import *\n",
    "import matplotlib.pyplot as plt\n",
    "import nnfs\n",
    "from nnfs.datasets import spiral_data\n",
    "\n",
    "nnfs.init()\n",
    "\n",
    "X, y = spiral_data(samples=100, classes=3)\n",
    "\n",
    "dense1 = Layer_Dense(2, 3)\n",
    "activation1 = Activation_ReLU()\n",
    "\n",
    "dense1.forward(X)\n",
    "activation1.forward(dense1.output)\n",
    "\n",
    "print(activation1.output[:5])\n"
   ],
   "metadata": {
    "collapsed": false,
    "pycharm": {
     "name": "#%%\n"
    }
   }
  },
  {
   "cell_type": "markdown",
   "source": [
    "# The Softmax Activation Function"
   ],
   "metadata": {
    "collapsed": false,
    "pycharm": {
     "name": "#%% md\n"
    }
   }
  },
  {
   "cell_type": "code",
   "execution_count": 13,
   "outputs": [
    {
     "name": "stdout",
     "output_type": "stream",
     "text": [
      "[0.89528266 0.02470831 0.08000903]\n",
      "0.9999999999999999\n"
     ]
    }
   ],
   "source": [
    "layer_outputs = [4.8, 1.21, 2.385]\n",
    "\n",
    "exp_values = np.exp(layer_outputs)\n",
    "\n",
    "norm_values = exp_values / np.sum(exp_values)\n",
    "\n",
    "print(norm_values)\n",
    "print(np.sum(norm_values))"
   ],
   "metadata": {
    "collapsed": false,
    "pycharm": {
     "name": "#%%\n"
    }
   }
  },
  {
   "cell_type": "code",
   "execution_count": 29,
   "outputs": [
    {
     "name": "stdout",
     "output_type": "stream",
     "text": [
      "Each of the samples has ~33%, this results from the random init of weights (a draw from the normal distribution)\n",
      "[[0.33333334 0.33333334 0.33333334]\n",
      " [0.33333343 0.3333331  0.3333335 ]\n",
      " [0.3333333  0.3333333  0.33333337]\n",
      " [0.33333313 0.33333343 0.33333346]\n",
      " [0.3333338  0.33333215 0.33333406]]\n",
      "Sum of confidence scores : \n",
      "[[1.]\n",
      " [1.]\n",
      " [1.]\n",
      " [1.]\n",
      " [1.]]\n",
      "Argmax confidence score (returns index) : \n",
      "[0 2 2 2 2]\n"
     ]
    }
   ],
   "source": [
    "X, y = spiral_data(samples=100, classes=3)\n",
    "\n",
    "# dense layer with 2 input features and 3 output features\n",
    "dense1 = Layer_Dense(2, 3)\n",
    "# dense layer with 3 input features and 3 output features\n",
    "dense2 = Layer_Dense(3, 3)\n",
    "\n",
    "activation1 = Activation_ReLU()\n",
    "activation2 = Activation_Softmax()\n",
    "\n",
    "# loss_function = Los\n",
    "#####################\n",
    "\n",
    "dense1.forward(X)\n",
    "activation1.forward(dense1.output)\n",
    "dense2.forward(activation1.output)\n",
    "activation2.forward(dense2.output)\n",
    "\n",
    "print(\"Each of the samples has ~33%, this results from the random init of weights (a draw from the normal distribution)\")\n",
    "print(activation2.output[:5])\n",
    "print(\"Sum of confidence scores : \")\n",
    "print(np.sum(activation2.output[:5], axis=1, keepdims=True))\n",
    "print(\"Argmax confidence score (returns index) : \")\n",
    "print(np.argmax(activation2.output[:5], axis=1))\n"
   ],
   "metadata": {
    "collapsed": false,
    "pycharm": {
     "name": "#%%\n"
    }
   }
  }
 ],
 "metadata": {
  "kernelspec": {
   "display_name": "Python 3",
   "language": "python",
   "name": "python3"
  },
  "language_info": {
   "codemirror_mode": {
    "name": "ipython",
    "version": 2
   },
   "file_extension": ".py",
   "mimetype": "text/x-python",
   "name": "python",
   "nbconvert_exporter": "python",
   "pygments_lexer": "ipython2",
   "version": "2.7.6"
  }
 },
 "nbformat": 4,
 "nbformat_minor": 0
}